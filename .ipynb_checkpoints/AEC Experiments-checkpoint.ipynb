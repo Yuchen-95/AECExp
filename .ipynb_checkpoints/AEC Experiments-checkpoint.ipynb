{
 "cells": [
  {
   "cell_type": "code",
   "execution_count": 1,
   "metadata": {},
   "outputs": [],
   "source": [
    "import librosa"
   ]
  },
  {
   "cell_type": "code",
   "execution_count": 2,
   "metadata": {},
   "outputs": [],
   "source": [
    "import numpy as np\n",
    "import IPython.display as ipd"
   ]
  },
  {
   "cell_type": "code",
   "execution_count": 3,
   "metadata": {},
   "outputs": [
    {
     "ename": "NameError",
     "evalue": "name 'play_back' is not defined",
     "output_type": "error",
     "traceback": [
      "\u001b[1;31m---------------------------------------------------------------------------\u001b[0m",
      "\u001b[1;31mNameError\u001b[0m                                 Traceback (most recent call last)",
      "\u001b[1;32m<ipython-input-3-6880e5ae58f6>\u001b[0m in \u001b[0;36m<module>\u001b[1;34m\u001b[0m\n\u001b[1;32m----> 1\u001b[1;33m \u001b[0mnew_audio\u001b[0m \u001b[1;33m=\u001b[0m \u001b[0mlibrosa\u001b[0m\u001b[1;33m.\u001b[0m\u001b[0mresample\u001b[0m\u001b[1;33m(\u001b[0m\u001b[0mplay_back\u001b[0m\u001b[1;33m.\u001b[0m\u001b[0mastype\u001b[0m\u001b[1;33m(\u001b[0m\u001b[0mfloat\u001b[0m\u001b[1;33m)\u001b[0m\u001b[1;33m,\u001b[0m \u001b[1;36m8000\u001b[0m\u001b[1;33m,\u001b[0m \u001b[1;36m8001\u001b[0m\u001b[1;33m)\u001b[0m\u001b[1;33m\u001b[0m\u001b[1;33m\u001b[0m\u001b[0m\n\u001b[0m",
      "\u001b[1;31mNameError\u001b[0m: name 'play_back' is not defined"
     ]
    }
   ],
   "source": [
    "new_audio = librosa.resample(play_back.astype(float), 8000, 8001)"
   ]
  },
  {
   "cell_type": "code",
   "execution_count": null,
   "metadata": {
    "scrolled": true
   },
   "outputs": [],
   "source": [
    "ipd.Audio(new_audio, rate=8000)"
   ]
  },
  {
   "cell_type": "markdown",
   "metadata": {},
   "source": [
    "## PART I: Clock Drift 测试  \n",
    "用的是 “小女人”数据。该数据 mic信号 和 playback信号 均为8k Hz。并且**WebRTC** 和**Speex**对原始数据的表现都很好。  \n",
    "实验中将playback的音频进行不同程度的resample。例如resample成**7990Hz**，但是依然当做**8k Hz**读取，这样playback的播放速度就加快了，达到clock drifting的效果。  \n",
    "  \n",
    "#### “小女人”数据"
   ]
  },
  {
   "cell_type": "code",
   "execution_count": null,
   "metadata": {},
   "outputs": [],
   "source": [
    "# mic\n",
    "dt = np.dtype('int16')\n",
    "xnr_mic = np.fromfile(r\"C:\\Users\\Zoom Admin\\Desktop\\Data\\XIAONVREN\\micin.pcm\", dtype = dt)\n",
    "ipd.Audio(xnr_mic, rate=8000)"
   ]
  },
  {
   "cell_type": "code",
   "execution_count": null,
   "metadata": {},
   "outputs": [],
   "source": [
    "# playback\n",
    "xnr_playback = np.fromfile(r\"C:\\Users\\Zoom Admin\\Desktop\\Data\\XIAONVREN\\speaker.pcm\",dtype = dt)\n",
    "ipd.Audio(xnr_playback, rate=8000)"
   ]
  },
  {
   "cell_type": "markdown",
   "metadata": {},
   "source": [
    "#### WebRTC结果\n",
    "1. NO DRIFTING: 回声完全去除，可以听清楚近端的人说话内容，但是DT的时候声音会轻微失真。 \n",
    "2. 7990Hz：在区间 0:15-0:32 和 0:53-0:59，回声跑出来了，canceller会尝试调整，收敛回去， DT时失真。 \n",
    "3. 7995Hz：在区间 0:15-0:31 回声跑出来了，之后又被抑制，有一些残余，DT时失真\n",
    "4. 7997Hz：在区间 0:15-0:29 回声跑出来了，之后又被抑制，有一些残余，DT时失真。\n",
    "5. 7998Hz：在区间 0:15-0:24 和 0:37-0:38回声跑出来了，之后又被抑制，有一些残余，DT时失真。\n",
    "6. 7999Hz：没有明显的发散，偶尔有回声残余。\n",
    "7. 8010Hz：在区间 0:15-0:39 和 0:55-0:59，回声跑出来了，canceller会尝试调整， DT时失真。\n",
    "8. 8005Hz：在区间 0:15-0:39 回声跑出来了，canceller会尝试调整， DT时失真。\n",
    "9. 8002Hz：没有明显的发散，偶尔有回声残余。\n",
    "10. 8001Hz：有一点残余"
   ]
  },
  {
   "cell_type": "code",
   "execution_count": null,
   "metadata": {},
   "outputs": [],
   "source": [
    "# NO DRIFTING\n",
    "xnr_wres = np.fromfile(r\"C:\\Users\\Zoom Admin\\Desktop\\7z\\webrtcapm\\webrtcapm\\Release\\xnr_res\", dtype = dt)\n",
    "ipd.Audio(xnr_wres , rate=8000)"
   ]
  },
  {
   "cell_type": "code",
   "execution_count": null,
   "metadata": {},
   "outputs": [],
   "source": [
    "# 7990 HZ\n",
    "xnr_wres7990 = np.fromfile(r\"C:\\Users\\Zoom Admin\\Desktop\\7z\\webrtcapm\\webrtcapm\\Release\\xnr_drift_7990\", dtype = dt)\n",
    "ipd.Audio(xnr_wres7990 , rate=8000)"
   ]
  },
  {
   "cell_type": "code",
   "execution_count": null,
   "metadata": {},
   "outputs": [],
   "source": [
    "# 7995 HZ\n",
    "xnr_wres7995 = np.fromfile(r\"C:\\Users\\Zoom Admin\\Desktop\\7z\\webrtcapm\\webrtcapm\\Release\\xnr_drift_7995\", dtype = dt)\n",
    "ipd.Audio(xnr_wres7995 , rate=8000)"
   ]
  },
  {
   "cell_type": "code",
   "execution_count": null,
   "metadata": {},
   "outputs": [],
   "source": [
    "# 7997 HZ\n",
    "xnr_wres7997 = np.fromfile(r\"C:\\Users\\Zoom Admin\\Desktop\\7z\\webrtcapm\\webrtcapm\\Release\\xnr_drift_7997\", dtype = dt)\n",
    "ipd.Audio(xnr_wres7997 , rate=8000)"
   ]
  },
  {
   "cell_type": "code",
   "execution_count": null,
   "metadata": {},
   "outputs": [],
   "source": [
    "# 7998 HZ\n",
    "xnr_wres7998 = np.fromfile(r\"C:\\Users\\Zoom Admin\\Desktop\\7z\\webrtcapm\\webrtcapm\\Release\\xnr_drift_7998\", dtype = dt)\n",
    "ipd.Audio(xnr_wres7998 , rate=8000)"
   ]
  },
  {
   "cell_type": "code",
   "execution_count": null,
   "metadata": {},
   "outputs": [],
   "source": [
    "# 7999 HZ\n",
    "xnr_wres7999 = np.fromfile(r\"C:\\Users\\Zoom Admin\\Desktop\\7z\\webrtcapm\\webrtcapm\\Release\\xnr_drift_7999\", dtype = dt)\n",
    "ipd.Audio(xnr_wres7999 , rate=8000)"
   ]
  },
  {
   "cell_type": "code",
   "execution_count": null,
   "metadata": {},
   "outputs": [],
   "source": [
    "# 8010 HZ\n",
    "xnr_wres8010 = np.fromfile(r\"C:\\Users\\Zoom Admin\\Desktop\\7z\\webrtcapm\\webrtcapm\\Release\\xnr_drift_8010\", dtype = dt)\n",
    "ipd.Audio(xnr_wres8010 , rate=8000)"
   ]
  },
  {
   "cell_type": "code",
   "execution_count": null,
   "metadata": {
    "scrolled": true
   },
   "outputs": [],
   "source": [
    "# 8005 HZ\n",
    "xnr_wres8005 = np.fromfile(r\"C:\\Users\\Zoom Admin\\Desktop\\7z\\webrtcapm\\webrtcapm\\Release\\xnr_drift_8005\", dtype = dt)\n",
    "ipd.Audio(xnr_wres8005, rate=8000)"
   ]
  },
  {
   "cell_type": "code",
   "execution_count": null,
   "metadata": {},
   "outputs": [],
   "source": [
    "# 8002 HZ\n",
    "xnr_wres8002 = np.fromfile(r\"C:\\Users\\Zoom Admin\\Desktop\\7z\\webrtcapm\\webrtcapm\\Release\\xnr_drift_8002\", dtype = dt)\n",
    "ipd.Audio(xnr_wres8002, rate=8000)"
   ]
  },
  {
   "cell_type": "code",
   "execution_count": null,
   "metadata": {},
   "outputs": [],
   "source": [
    "# 8001 HZ\n",
    "xnr_wres8001 = np.fromfile(r\"C:\\Users\\Zoom Admin\\Desktop\\7z\\webrtcapm\\webrtcapm\\Release\\xnr_drift_8001\", dtype = dt)\n",
    "ipd.Audio(xnr_wres8001, rate=8000)"
   ]
  },
  {
   "cell_type": "markdown",
   "metadata": {},
   "source": [
    "#### Speex结果\n",
    "1. NO DRIFTING: 前2s还有明显回声，直到12s左右才完全消除，近端声音清晰不失真。\n",
    "2. 7990 Hz: 基本不工作\n",
    "3. 7995 Hz: 基本不工作\n",
    "4. 7997 Hz: 基本不工作\n",
    "5. 7998 Hz: 基本不工作\n",
    "6. 7999 Hz: 基本不工作，但是回声部分变得闷闷的\n",
    "7. 8010 Hz: 基本不工作\n",
    "8. 8005Hz：基本不工作\n",
    "9. 8002Hz：基本不工作\n",
    "10. 8001Hz：基本不工作，但是回声部分变得闷闷的"
   ]
  },
  {
   "cell_type": "code",
   "execution_count": null,
   "metadata": {},
   "outputs": [],
   "source": [
    "# NO DRIFTING\n",
    "xnr_sres = np.fromfile(r\"C:\\Users\\Zoom Admin\\Desktop\\speex-1.2rc1-VS2010\\bin\\xiaonvren_res\", dtype = dt)\n",
    "ipd.Audio(xnr_sres, rate=8000)"
   ]
  },
  {
   "cell_type": "code",
   "execution_count": null,
   "metadata": {},
   "outputs": [],
   "source": [
    "# 7990 Hz\n",
    "xnr_sres7990 = np.fromfile(r\"C:\\Users\\Zoom Admin\\Desktop\\speex-1.2rc1-VS2010\\bin\\xnr_drift_7990\", dtype = dt)\n",
    "ipd.Audio(xnr_sres7990, rate=8000)"
   ]
  },
  {
   "cell_type": "code",
   "execution_count": null,
   "metadata": {},
   "outputs": [],
   "source": [
    "# 7995 Hz\n",
    "xnr_sres7995 = np.fromfile(r\"C:\\Users\\Zoom Admin\\Desktop\\speex-1.2rc1-VS2010\\bin\\xnr_drift_7995\", dtype = dt)\n",
    "ipd.Audio(xnr_sres7995, rate=8000)"
   ]
  },
  {
   "cell_type": "code",
   "execution_count": null,
   "metadata": {},
   "outputs": [],
   "source": [
    "# 7997 Hz\n",
    "xnr_sres7997 = np.fromfile(r\"C:\\Users\\Zoom Admin\\Desktop\\speex-1.2rc1-VS2010\\bin\\xnr_drift_7997\", dtype = dt)\n",
    "ipd.Audio(xnr_sres7997, rate=8000)"
   ]
  },
  {
   "cell_type": "code",
   "execution_count": null,
   "metadata": {},
   "outputs": [],
   "source": [
    "# 7998 Hz\n",
    "xnr_sres7998 = np.fromfile(r\"C:\\Users\\Zoom Admin\\Desktop\\speex-1.2rc1-VS2010\\bin\\xnr_drift_7998\", dtype = dt)\n",
    "ipd.Audio(xnr_sres7998, rate=8000)"
   ]
  },
  {
   "cell_type": "code",
   "execution_count": null,
   "metadata": {
    "scrolled": false
   },
   "outputs": [],
   "source": [
    "# 7999 Hz\n",
    "xnr_sres7999 = np.fromfile(r\"C:\\Users\\Zoom Admin\\Desktop\\speex-1.2rc1-VS2010\\bin\\xnr_drift_7999\", dtype = dt)\n",
    "ipd.Audio(xnr_sres7999, rate=8000)"
   ]
  },
  {
   "cell_type": "code",
   "execution_count": null,
   "metadata": {},
   "outputs": [],
   "source": [
    "# 8010 Hz\n",
    "xnr_sres8010 = np.fromfile(r\"C:\\Users\\Zoom Admin\\Desktop\\speex-1.2rc1-VS2010\\bin\\xnr_drift_8010\", dtype = dt)\n",
    "ipd.Audio(xnr_sres8010, rate=8000)"
   ]
  },
  {
   "cell_type": "code",
   "execution_count": null,
   "metadata": {},
   "outputs": [],
   "source": [
    "# 8005 Hz\n",
    "xnr_sres8005 = np.fromfile(r\"C:\\Users\\Zoom Admin\\Desktop\\speex-1.2rc1-VS2010\\bin\\xnr_drift_8005\", dtype = dt)\n",
    "ipd.Audio(xnr_sres8005, rate=8000)"
   ]
  },
  {
   "cell_type": "code",
   "execution_count": null,
   "metadata": {},
   "outputs": [],
   "source": [
    "# 8002 Hz\n",
    "xnr_sres8002 = np.fromfile(r\"C:\\Users\\Zoom Admin\\Desktop\\speex-1.2rc1-VS2010\\bin\\xnr_drift_8002\", dtype = dt)\n",
    "ipd.Audio(xnr_sres8002, rate=8000)"
   ]
  },
  {
   "cell_type": "code",
   "execution_count": null,
   "metadata": {},
   "outputs": [],
   "source": [
    "# 8001 Hz\n",
    "xnr_sres8001 = np.fromfile(r\"C:\\Users\\Zoom Admin\\Desktop\\speex-1.2rc1-VS2010\\bin\\xnr_drift_8001\", dtype = dt)\n",
    "ipd.Audio(xnr_sres8001, rate=8000)"
   ]
  },
  {
   "cell_type": "markdown",
   "metadata": {},
   "source": [
    "## PART II Reverberation\n"
   ]
  },
  {
   "cell_type": "code",
   "execution_count": null,
   "metadata": {},
   "outputs": [],
   "source": []
  },
  {
   "cell_type": "code",
   "execution_count": null,
   "metadata": {},
   "outputs": [],
   "source": []
  },
  {
   "cell_type": "code",
   "execution_count": null,
   "metadata": {},
   "outputs": [],
   "source": []
  },
  {
   "cell_type": "code",
   "execution_count": null,
   "metadata": {},
   "outputs": [],
   "source": []
  },
  {
   "cell_type": "markdown",
   "metadata": {},
   "source": [
    "## PART III 房间内完全静止和有人移动的对比\n",
    "\n",
    "#### 室内录音1\n",
    " 1. audio1: 完全静止时录制的广播 （模拟远端playback）\n",
    " 2. audio2: 人在房间走动时录制的广播 （模拟近端mic信号 - moving）\n",
    " 3. audio3：完全静止时录制广播同时近端在说话 （模拟近端mic信号 - double talk）\n",
    " 4. audio4：人在房间走动时录制广播同时近端在说话（模拟近端mic信号 - moving+double talk）"
   ]
  },
  {
   "cell_type": "code",
   "execution_count": null,
   "metadata": {},
   "outputs": [],
   "source": [
    "# audio1 \n",
    "still = np.fromfile(r\"C:\\Users\\Zoom Admin\\Desktop\\Data\\mac_align\\recording2_still.wav\",dtype = dt)\n",
    "ipd.Audio(still, rate=8000)"
   ]
  },
  {
   "cell_type": "code",
   "execution_count": null,
   "metadata": {},
   "outputs": [],
   "source": [
    "# audio2 \n",
    "moving2 = np.fromfile(r\"C:\\Users\\Zoom Admin\\Desktop\\Data\\mac_align\\recording5_move.wav\",dtype = dt)\n",
    "ipd.Audio(moving2, rate=8000)\n"
   ]
  },
  {
   "cell_type": "code",
   "execution_count": null,
   "metadata": {},
   "outputs": [],
   "source": [
    "# audio3\n",
    "still_dt = np.fromfile(r\"C:\\Users\\Zoom Admin\\Desktop\\Data\\mac_align\\recording3_dt.wav\",dtype = dt)\n",
    "ipd.Audio(still_dt, rate=8000)"
   ]
  },
  {
   "cell_type": "code",
   "execution_count": null,
   "metadata": {
    "scrolled": true
   },
   "outputs": [],
   "source": [
    "# audio4\n",
    "moving_dt = np.fromfile(r\"C:\\Users\\Zoom Admin\\Desktop\\Data\\mac_align\\recording6_move_dt.wav\",dtype = dt)\n",
    "ipd.Audio(moving_dt, rate=8000)"
   ]
  },
  {
   "cell_type": "markdown",
   "metadata": {},
   "source": [
    "#### WebRTC结果\n",
    "- audio2 - audio1（expected消除至空白）: 0:06后几乎都消除干净 \n",
    "- audio3 - audio1（expected只有近端）: 音乐的声音没完全去掉，一直有残余远端人声\n",
    "- audio4 - audio1（expected只有近端）: 音乐的声音有残余， 但是远端人声几乎都去掉了"
   ]
  },
  {
   "cell_type": "code",
   "execution_count": null,
   "metadata": {},
   "outputs": [],
   "source": [
    "moving_res1 = np.fromfile(r\"C:\\Users\\Zoom Admin\\Desktop\\7z\\webrtcapm\\webrtcapm\\Release\\res_52\",dtype = dt)\n",
    "ipd.Audio(moving_res1, rate=8000)"
   ]
  },
  {
   "cell_type": "code",
   "execution_count": null,
   "metadata": {
    "scrolled": true
   },
   "outputs": [],
   "source": [
    "still_dt_res1 = np.fromfile(r\"C:\\Users\\Zoom Admin\\Desktop\\7z\\webrtcapm\\webrtcapm\\Release\\res_32\",dtype = dt)\n",
    "ipd.Audio(still_dt_res1, rate=8000)"
   ]
  },
  {
   "cell_type": "code",
   "execution_count": null,
   "metadata": {},
   "outputs": [],
   "source": [
    "moving_dt_res1 = np.fromfile(r\"C:\\Users\\Zoom Admin\\Desktop\\7z\\webrtcapm\\webrtcapm\\Release\\res_62\",dtype = dt)\n",
    "ipd.Audio(moving_dt_res1, rate=8000)"
   ]
  },
  {
   "cell_type": "markdown",
   "metadata": {},
   "source": [
    "#### Speex 结果\n",
    "- audio2 - audio1（expected消除至空白）: 回声抑制住一段时间又会跑出来，时大时小\n",
    "- audio3 - audio1（expected只有近端）: 远端音乐和人声都有一些模糊的残余，近端人声还是很清楚\n",
    "- audio4 - audio1（expected只有近端）: 远端回声很大"
   ]
  },
  {
   "cell_type": "code",
   "execution_count": null,
   "metadata": {},
   "outputs": [],
   "source": [
    "moving_res2 = np.fromfile(r\"C:\\Users\\Zoom Admin\\Desktop\\speex-1.2rc1-VS2010\\bin\\res_52\",dtype = dt)\n",
    "ipd.Audio(moving_res2, rate=8000)"
   ]
  },
  {
   "cell_type": "code",
   "execution_count": null,
   "metadata": {
    "scrolled": true
   },
   "outputs": [],
   "source": [
    "still_dt_res2 = np.fromfile(r\"C:\\Users\\Zoom Admin\\Desktop\\speex-1.2rc1-VS2010\\bin\\re_32\",dtype = dt)\n",
    "ipd.Audio(still_dt_res2, rate=8000)"
   ]
  },
  {
   "cell_type": "code",
   "execution_count": null,
   "metadata": {},
   "outputs": [],
   "source": [
    "moving_dt_res2 = np.fromfile(r\"C:\\Users\\Zoom Admin\\Desktop\\speex-1.2rc1-VS2010\\bin\\res_62\",dtype = dt)\n",
    "ipd.Audio(moving_dt_res2, rate=8000)"
   ]
  },
  {
   "cell_type": "markdown",
   "metadata": {},
   "source": [
    "#### 室内录音2    \n",
    "in another room\n",
    "- audio1: 完全静止时录制的广播 （模拟远端playback）\n",
    "- audio2: 完全静止时录制广播同时近端在说话 （模拟近端mic信号 - double talk）\n",
    "- audio3: 录制广播同时近端边走路边说话（模拟近端mic信号 - moving+double talk）\n"
   ]
  },
  {
   "cell_type": "code",
   "execution_count": null,
   "metadata": {},
   "outputs": [],
   "source": [
    "# audio1\n",
    "recording11 = np.fromfile(r\"C:\\Users\\Zoom Admin\\Desktop\\Data\\mac_align\\recording11_2.wav\",dtype = dt)\n",
    "ipd.Audio(recording11 , rate=8000)"
   ]
  },
  {
   "cell_type": "code",
   "execution_count": null,
   "metadata": {},
   "outputs": [],
   "source": [
    "# audio2\n",
    "recording12 = np.fromfile(r\"C:\\Users\\Zoom Admin\\Desktop\\Data\\mac_align\\recording12_2.wav\",dtype = dt)\n",
    "ipd.Audio(recording12 , rate=8000)"
   ]
  },
  {
   "cell_type": "code",
   "execution_count": null,
   "metadata": {},
   "outputs": [],
   "source": [
    "# audio3\n",
    "recording14 = np.fromfile(r\"C:\\Users\\Zoom Admin\\Desktop\\Data\\mac_align\\recording13.wav\",dtype = dt)\n",
    "ipd.Audio(recording14 , rate=8000)"
   ]
  },
  {
   "cell_type": "markdown",
   "metadata": {},
   "source": [
    "#### WebRTC结果\n",
    "1. audio2-audio1：回声几乎都去除了，近端声音可以听清楚，但是有点闷\n",
    "2. audio3-audio2：回声几乎都去除了，近端声音可以听清楚，但是有点闷"
   ]
  },
  {
   "cell_type": "code",
   "execution_count": null,
   "metadata": {},
   "outputs": [],
   "source": [
    "res1211 = np.fromfile(r\"C:\\Users\\Zoom Admin\\Desktop\\7z\\webrtcapm\\webrtcapm\\Release\\res_1211\",dtype = dt)\n",
    "ipd.Audio(res1211, rate=8000)"
   ]
  },
  {
   "cell_type": "code",
   "execution_count": null,
   "metadata": {},
   "outputs": [],
   "source": [
    "res1411 = np.fromfile(r\"C:\\Users\\Zoom Admin\\Desktop\\7z\\webrtcapm\\webrtcapm\\Release\\res_1411\",dtype = dt)\n",
    "ipd.Audio(res1411, rate=8000)"
   ]
  },
  {
   "cell_type": "markdown",
   "metadata": {},
   "source": [
    "#### Speex结果\n",
    "1. audio2-audio1：回声有些残留，近端声音清晰\n",
    "2. audio3-audio2：回声偶尔冒出来，近端声音清晰"
   ]
  },
  {
   "cell_type": "code",
   "execution_count": null,
   "metadata": {},
   "outputs": [],
   "source": [
    "res12112 = np.fromfile(r\"C:\\Users\\Zoom Admin\\Desktop\\speex-1.2rc1-VS2010\\bin\\res_1211\",dtype = dt)\n",
    "ipd.Audio(res12112, rate=8000)"
   ]
  },
  {
   "cell_type": "code",
   "execution_count": null,
   "metadata": {
    "scrolled": true
   },
   "outputs": [],
   "source": [
    "res14112 = np.fromfile(r\"C:\\Users\\Zoom Admin\\Desktop\\speex-1.2rc1-VS2010\\bin\\res_1411\",dtype = dt)\n",
    "ipd.Audio(res12112, rate=8000)"
   ]
  },
  {
   "cell_type": "markdown",
   "metadata": {},
   "source": [
    "## PART IV 音频能量对WebRTC performance的影响\n",
    "\n",
    "1. res1是mic信号减去playback（expect只有近端声音）：结果可以听清楚近端的人说话内容，但是DT的时候声音会失真。 \n",
    "2. res2是playback自己与自己相减（expect完全消除）：开头可以听见声音信号被消去一小段，但是0：05之后全部都有泄露。  \n",
    "\n",
    "问题：  \n",
    "同样的数据，为什么自己与自己相减反而结果更差，完全没有消去？  \n",
    "是因为能量小的部分被算法忽略，直接放出来了？"
   ]
  },
  {
   "cell_type": "code",
   "execution_count": null,
   "metadata": {},
   "outputs": [],
   "source": [
    "# playback-playback\n",
    "xnr_res2 = np.fromfile(r\"C:\\Users\\Zoom Admin\\Desktop\\7z\\webrtcapm\\webrtcapm\\Release\\xnr_pb-pb\",dtype = dt)\n",
    "ipd.Audio(res2, rate=8000)"
   ]
  },
  {
   "cell_type": "markdown",
   "metadata": {},
   "source": [
    "#### Speex结果\n",
    "1. res3 micin减playback（expect只有近端声音）：前2s还有明显回声，直到12s左右才完全消除，结果声音清晰不失真。\n",
    "2. res4 playback自己与自己相减（expect完全消除）：0:04左右完全消除了。"
   ]
  },
  {
   "cell_type": "code",
   "execution_count": null,
   "metadata": {},
   "outputs": [],
   "source": [
    "# playback-playback\n",
    "xnr_res4 = np.fromfile(r\"C:\\Users\\Zoom Admin\\Desktop\\speex-1.2rc1-VS2010\\bin\\xnr_res2\", dtype = dt)\n",
    "ipd.Audio(xnr_res4, rate=8000)"
   ]
  },
  {
   "cell_type": "markdown",
   "metadata": {},
   "source": [
    "## 数据 王建的录音"
   ]
  },
  {
   "cell_type": "code",
   "execution_count": null,
   "metadata": {},
   "outputs": [],
   "source": [
    "mic_wj = np.fromfile(r\"C:\\Users\\Zoom Admin\\Desktop\\Data\\audio_recorded_byWJ\\mic_8k.pcm\", dtype = dt)\n",
    "ipd.Audio(mic_wj, rate=8000)"
   ]
  },
  {
   "cell_type": "code",
   "execution_count": null,
   "metadata": {},
   "outputs": [],
   "source": [
    "play_back_wj = np.fromfile(r\"C:\\Users\\Zoom Admin\\Desktop\\Data\\audio_recorded_byWJ\\speaker_8k.pcm\",dtype = dt)\n",
    "ipd.Audio(play_back_wj, rate=8000)"
   ]
  },
  {
   "cell_type": "markdown",
   "metadata": {},
   "source": [
    "#### WebRTC 结果  \n",
    "1. res1 mic减playback（expect只有近端声音）：回声几乎都消除了，但是近端声音也被消除掉很多，听不到完整说话内容，添加了白噪音。\n",
    "2. res2 playback自己与自己相减（expect完全消除）：全程都有回声泄露。"
   ]
  },
  {
   "cell_type": "code",
   "execution_count": null,
   "metadata": {},
   "outputs": [],
   "source": [
    "wj_res1 = np.fromfile(r\"C:\\Users\\Zoom Admin\\Desktop\\7z\\webrtcapm\\webrtcapm\\Release\\res_wj\",dtype = dt)\n",
    "ipd.Audio(wj_res1, rate=8000)"
   ]
  },
  {
   "cell_type": "code",
   "execution_count": null,
   "metadata": {},
   "outputs": [],
   "source": [
    "wj_res2 = np.fromfile(r\"C:\\Users\\Zoom Admin\\Desktop\\7z\\webrtcapm\\webrtcapm\\Release\\res_wj2\",dtype = dt)\n",
    "ipd.Audio(wj_res2, rate=8000)"
   ]
  },
  {
   "cell_type": "markdown",
   "metadata": {},
   "source": [
    "#### Speex 结果  \n",
    "1. res3 mic减playback（expect只有近端声音）：近端说话内容大部分都可以听清楚，但是全程都有远端回声残余。\n",
    "2. res4 playback减playback（expect完全消除）：开头0:05左右一些残余，后面全部消除了。"
   ]
  },
  {
   "cell_type": "code",
   "execution_count": null,
   "metadata": {},
   "outputs": [],
   "source": [
    "wj_res3 = np.fromfile(r\"C:\\Users\\Zoom Admin\\Desktop\\speex-1.2rc1-VS2010\\bin\\res_wj\",dtype = dt)\n",
    "ipd.Audio(wj_res3, rate=8000)"
   ]
  },
  {
   "cell_type": "code",
   "execution_count": null,
   "metadata": {},
   "outputs": [],
   "source": [
    "wj_res4 = np.fromfile(r\"C:\\Users\\Zoom Admin\\Desktop\\speex-1.2rc1-VS2010\\bin\\res_wj2\",dtype = dt)\n",
    "ipd.Audio(wj_res4, rate=8000)"
   ]
  },
  {
   "cell_type": "code",
   "execution_count": null,
   "metadata": {},
   "outputs": [],
   "source": []
  }
 ],
 "metadata": {
  "kernelspec": {
   "display_name": "Python 3",
   "language": "python",
   "name": "python3"
  },
  "language_info": {
   "codemirror_mode": {
    "name": "ipython",
    "version": 3
   },
   "file_extension": ".py",
   "mimetype": "text/x-python",
   "name": "python",
   "nbconvert_exporter": "python",
   "pygments_lexer": "ipython3",
   "version": "3.7.4"
  }
 },
 "nbformat": 4,
 "nbformat_minor": 2
}
